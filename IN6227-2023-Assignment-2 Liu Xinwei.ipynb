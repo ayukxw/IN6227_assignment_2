{
 "cells": [
  {
   "cell_type": "markdown",
   "metadata": {},
   "source": [
    "# IN6227 Data Mining – Assignment 2"
   ]
  },
  {
   "cell_type": "markdown",
   "metadata": {},
   "source": [
    "## IN6227-2023-Assignment-2"
   ]
  },
  {
   "cell_type": "markdown",
   "metadata": {},
   "source": [
    "## LIU XINWEI (G2103290E)"
   ]
  },
  {
   "cell_type": "markdown",
   "metadata": {},
   "source": [
    "## Imports"
   ]
  },
  {
   "cell_type": "code",
   "execution_count": 1,
   "metadata": {},
   "outputs": [
    {
     "name": "stderr",
     "output_type": "stream",
     "text": [
      "C:\\Users\\cryse\\Anaconda3\\envs\\tensorflow-gpu\\lib\\site-packages\\numpy\\_distributor_init.py:32: UserWarning: loaded more than 1 DLL from .libs:\n",
      "C:\\Users\\cryse\\Anaconda3\\envs\\tensorflow-gpu\\lib\\site-packages\\numpy\\.libs\\libopenblas.PYQHXLVVQ7VESDPUVUADXEVJOBGHJPAY.gfortran-win_amd64.dll\n",
      "C:\\Users\\cryse\\Anaconda3\\envs\\tensorflow-gpu\\lib\\site-packages\\numpy\\.libs\\libopenblas.WCDJNK7YVMPZQ2ME2ZZHJJRJ3JIKNDB7.gfortran-win_amd64.dll\n",
      "  stacklevel=1)\n"
     ]
    }
   ],
   "source": [
    "%matplotlib inline"
   ]
  },
  {
   "cell_type": "code",
   "execution_count": 2,
   "metadata": {},
   "outputs": [],
   "source": [
    "import pandas as pd\n",
    "import numpy as np\n",
    "import matplotlib.pyplot as plt\n",
    "from apyori import apriori\n",
    "import itertools\n",
    "import copy\n",
    "import math\n",
    "import datetime"
   ]
  },
  {
   "cell_type": "markdown",
   "metadata": {},
   "source": [
    "## Load Datasets "
   ]
  },
  {
   "cell_type": "code",
   "execution_count": 3,
   "metadata": {},
   "outputs": [],
   "source": [
    "# df = pd.read_csv('data/April2021_CITIBike_BikeSharing-NewYork.csv')"
   ]
  },
  {
   "cell_type": "code",
   "execution_count": 4,
   "metadata": {},
   "outputs": [],
   "source": [
    "# df.head()"
   ]
  },
  {
   "cell_type": "code",
   "execution_count": 5,
   "metadata": {},
   "outputs": [],
   "source": [
    "# df.info()"
   ]
  },
  {
   "cell_type": "markdown",
   "metadata": {},
   "source": [
    "## Data Preprocessing"
   ]
  },
  {
   "cell_type": "markdown",
   "metadata": {},
   "source": [
    "### Annotate Data According to Time Segments"
   ]
  },
  {
   "cell_type": "code",
   "execution_count": 6,
   "metadata": {},
   "outputs": [],
   "source": [
    "def gen_time_segment(dt):\n",
    "    if dt.minute < 30:\n",
    "        minute = \"%02d\" % 0\n",
    "    else:\n",
    "        minute = \"%02d\" % 30\n",
    "    return \"{}-{}-{} {}:{}\".format(dt.year, dt.month, dt.day, dt.hour, minute)\n",
    "\n",
    "def process_trip_data(csv_data):\n",
    "    df = pd.read_csv(csv_data)\n",
    "    df.dropna(axis=1, how='any')\n",
    "\n",
    "    df['starttime'] = pd.to_datetime(df['starttime'], format='%Y-%m-%d %H:%M:%S')\n",
    "    df['stoptime'] = pd.to_datetime(df['stoptime'], format='%Y-%m-%d %H:%M:%S')\n",
    "    df['start_seg'] = [gen_time_segment(dt) for dt in df['starttime']]\n",
    "    df['stop_seg'] = [gen_time_segment(dt) for dt in df['stoptime']]\n",
    "    return df"
   ]
  },
  {
   "cell_type": "markdown",
   "metadata": {},
   "source": [
    "### Group and Count Data with Time Segments"
   ]
  },
  {
   "cell_type": "code",
   "execution_count": 7,
   "metadata": {},
   "outputs": [],
   "source": [
    "def get_station_id_and_inflow_and_outflow(data_frame_trip_data):\n",
    "    t1 = data_frame_trip_data[['start station id', 'start station name', 'start station latitude', 'start station longitude']] \\\n",
    "            .drop_duplicates().rename(columns = {'start station id':'station id', \\\n",
    "                                                    'start station name':'station name', \\\n",
    "                                                    'start station latitude':'station latitude', \n",
    "                                                    'start station longitude': 'station longitude'})\n",
    "    t2 = data_frame_trip_data[['end station id', 'end station name', 'end station latitude', 'end station longitude']] \\\n",
    "            .drop_duplicates().rename(columns = {'end station id':'station id', \\\n",
    "                                            'end station name':'station name', \\\n",
    "                                            'end station latitude':'station latitude', \\\n",
    "                                            'end station longitude': 'station longitude'})\n",
    "    df_loc = pd.concat([t1, t2]).drop_duplicates()\n",
    "    inflow = data_frame_trip_data[['end station id', 'stop_seg']] \\\n",
    "            .groupby(['end station id', 'stop_seg']) \\\n",
    "            .size().reset_index(name='counts') \\\n",
    "            .rename(columns={'end station id':'station id','stop_seg':'time', 'counts':'in_flow_count'})\n",
    "\n",
    "\n",
    "    outflow = data_frame_trip_data[['start station id', 'start_seg']] \\\n",
    "            .groupby(['start station id', 'start_seg']) \\\n",
    "            .size().reset_index(name='counts') \\\n",
    "            .rename(columns={'start station id':'station id','start_seg':'time', 'counts':'out_flow_count'})\n",
    "\n",
    "    station_id_list = list(df_loc['station id'])\n",
    "    return station_id_list, inflow, outflow"
   ]
  },
  {
   "cell_type": "markdown",
   "metadata": {},
   "source": [
    "### Merge In-flow and Out-flow for Each Station within Time Segments"
   ]
  },
  {
   "cell_type": "code",
   "execution_count": 8,
   "metadata": {},
   "outputs": [],
   "source": [
    "def extract_in_out_flows(start_date, end_date, station_id_list, inflow, outflow ):\n",
    "    # Create combinations of time series and station ids\n",
    "    time_seg_list = list(pd.date_range(start_date, end_date, freq=\"30min\"))\n",
    "    template = pd.DataFrame(list(itertools.product(station_id_list, time_seg_list)), \\\n",
    "                            columns=[\"station id\", \"time\"])\n",
    "\n",
    "    # Merge in/out flow information & Add zeros to missing data according to every time segment\n",
    "    dat = pd.merge(inflow, outflow, on=['station id', 'time'], how='outer')\n",
    "    dat['time'] = pd.to_datetime(dat['time'], format='%Y-%m-%d %H:%M')\n",
    "    dat = dat.merge(template, on=[\"station id\", \"time\"], how=\"right\").fillna(0)\n",
    "    return dat"
   ]
  },
  {
   "cell_type": "markdown",
   "metadata": {},
   "source": [
    "## Define Transactions"
   ]
  },
  {
   "cell_type": "markdown",
   "metadata": {},
   "source": [
    "### A transaction consists of:\n",
    "- time of a day\n",
    "- station ID\n",
    "- flow count of that station (sum up in-flow count and out-flow count)"
   ]
  },
  {
   "cell_type": "markdown",
   "metadata": {},
   "source": [
    "### Discretization Method on Time Segments\n",
    "\n",
    "- 00:00 ~ 06:00: Night\n",
    "- 06:00 ~ 11:00: Morning\n",
    "- 11:00 ~ 13:00: Noon\n",
    "- 13:00 ~ 16:00: Afternoon\n",
    "- 16:00 ~ 22:00: Evening\n",
    "- 22:00 ~ 24:00: Night"
   ]
  },
  {
   "cell_type": "code",
   "execution_count": 9,
   "metadata": {},
   "outputs": [],
   "source": [
    "def get_station_specific_data(df_flow, station_id):\n",
    "    df_flow['time'] = pd.to_datetime(df_flow['time'], format='%Y-%m-%d %H:%M:%S')\n",
    "    dat = df_flow[df_flow['station id'] == station_id][['time', 'in_flow_count', 'out_flow_count']]\n",
    "    dat['flow_count'] = dat['in_flow_count'] + dat['out_flow_count']\n",
    "    dat['time'] = [\"{:02d}:{:02d}\".format(dt.hour, dt.minute) for dt in dat['time']]\n",
    "    dat = dat[['time', 'flow_count']]\n",
    "    dat['time'] = pd.to_datetime(dat['time'], format='%H:%M')\n",
    "    dat_copy = copy.deepcopy(dat)\n",
    "    mapping = [\"Night\"]*6 + [\"Morning\"]*5 + [\"Noon\"]*2 + [\"Afternoon\"]*3 + [\"Evening\"]*6 + [\"Night\"]*2\n",
    "    dat_copy['time'] = [mapping[math.floor(dt.hour)] for dt in dat_copy['time']]\n",
    "    if len(dat_copy) == 0:\n",
    "        return dat_copy\n",
    "    flow_count_names = pd.qcut(dat_copy['flow_count'].unique(), q = 3, \\\n",
    "                                    labels = [\"low\", \"medium\", \"high\"]).astype(str)\n",
    "    flow_count_numbers = dat_copy['flow_count'].unique()\n",
    "    flow_map = dict(zip(flow_count_numbers, flow_count_names))\n",
    "    dat_copy['flow_count'] = dat_copy['flow_count'].apply(lambda k: flow_map[k])\n",
    "    return dat_copy"
   ]
  },
  {
   "cell_type": "code",
   "execution_count": 10,
   "metadata": {},
   "outputs": [],
   "source": [
    "def get_data_frames_start_end_dates_and_station_ids(start_date, end_dates, station_ids):\n",
    "    data_frames = []\n",
    "    for end_date, station_id in zip(end_dates, station_ids):\n",
    "      df_flow = extract_in_out_flows(start_date, end_date, station_id_list=station_id_list, inflow=inflow, outflow=outflow)\n",
    "      data_frame = get_station_specific_data(df_flow, station_id)\n",
    "      data_frames.append(data_frame)\n",
    "    return data_frames"
   ]
  },
  {
   "cell_type": "code",
   "execution_count": 11,
   "metadata": {},
   "outputs": [],
   "source": [
    "csv_file = 'data/April2021_CITIBike_BikeSharing-NewYork.csv'\n",
    "df_processed = process_trip_data(csv_data=csv_file)\n",
    "station_id_list, inflow, outflow = get_station_id_and_inflow_and_outflow(data_frame_trip_data=df_processed)\n",
    "start_date = \"2021-04-01 00:00:00\"\n",
    "end_dates = [\"2021-04-06 23:30:00\", \"2021-04-12 23:30:00\", \"2021-04-18 23:30:00\", \"2021-04-24 23:30:00\", \"2021-04-30 23:30:00\"]\n",
    "station_ids = [3225, 3186, 3639, 3792, 3205, 3199, 3269, 3206, 3211, 3185]\n",
    "data_frames = get_data_frames_start_end_dates_and_station_ids(start_date, end_dates, station_ids)"
   ]
  },
  {
   "cell_type": "markdown",
   "metadata": {},
   "source": [
    "# Association Rule Mining"
   ]
  },
  {
   "cell_type": "code",
   "execution_count": 12,
   "metadata": {},
   "outputs": [],
   "source": [
    "def get_counts_and_perf_logs(data_frames, fn):\n",
    "    cols = set()\n",
    "    perf_logs = []\n",
    "    for _ in range(0, 80):\n",
    "      time_log = []\n",
    "      for data_frame in data_frames:\n",
    "        cols.add(len(data_frame.index))\n",
    "        start_time = datetime.datetime.now()\n",
    "        fp = fn(data_frame.values.tolist(), 0.03, 0.6)\n",
    "        end_time = datetime.datetime.now()\n",
    "        time_taken = end_time - start_time\n",
    "        time_log.append(time_taken.microseconds)\n",
    "      perf_logs.append(time_log)\n",
    "    perf_logs = np.array(perf_logs)\n",
    "    cols = sorted(list(cols))\n",
    "    return cols, perf_logs\n",
    "\n",
    "def draw_box_plot(cols, perf_logs):\n",
    "    df = pd.DataFrame(perf_logs,columns=cols)\n",
    "    boxplot = df.boxplot(column=cols)\n",
    "    boxplot.set_xlabel('Counts')\n",
    "    boxplot.set_ylabel('Time (in microseconds)')\n",
    "    return boxplot"
   ]
  },
  {
   "cell_type": "markdown",
   "metadata": {},
   "source": [
    "## Apriori Algorithm"
   ]
  },
  {
   "cell_type": "code",
   "execution_count": 13,
   "metadata": {},
   "outputs": [],
   "source": [
    "def apriori_find_association_rules(dataset, minsup, minconf):\n",
    "    records = list(apriori(dataset, min_support=minsup, min_confidence=minconf))\n",
    "    return records\n",
    "\n",
    "def apriori_show_mining_results(records):\n",
    "    ap = []\n",
    "    for record in records:\n",
    "        converted_record = record._replace(ordered_statistics=[x._asdict() for x in record.ordered_statistics])\n",
    "        ap.append(converted_record._asdict())\n",
    "    \n",
    "    print(\"Frequent Itemsets:\\n------------------\")\n",
    "    for ptn in ap:\n",
    "       print('({})  support = {}'.format(\", \".join(ptn[\"items\"]), round(ptn[\"support\"], 3)))\n",
    "    print()\n",
    "    \n",
    "    print(\"Rules:\\n------\")\n",
    "    for ptn in ap:\n",
    "        for rule in ptn[\"ordered_statistics\"]:\n",
    "            head = rule[\"items_base\"]\n",
    "            tail = rule[\"items_add\"]\n",
    "            if len(head) == 0 or len(tail) == 0:\n",
    "                continue\n",
    "            confidence = rule[\"confidence\"]\n",
    "            print('({}) ==> ({})  confidence = {}'.format(', '.join(head), ', '.join(tail), round(confidence, 3)))\n",
    "    print()"
   ]
  },
  {
   "cell_type": "markdown",
   "metadata": {},
   "source": [
    "### Box Plots"
   ]
  },
  {
   "cell_type": "code",
   "execution_count": 14,
   "metadata": {},
   "outputs": [
    {
     "data": {
      "text/plain": [
       "<AxesSubplot:xlabel='Counts', ylabel='Time (in microseconds)'>"
      ]
     },
     "execution_count": 14,
     "metadata": {},
     "output_type": "execute_result"
    },
    {
     "data": {
      "image/png": "[encoded data removed]",
      "text/plain": [
       "<Figure size 432x288 with 1 Axes>"
      ]
     },
     "metadata": {},
     "output_type": "display_data"
    }
   ],
   "source": [
    "apriori_cols, apriori_perf_logs = get_counts_and_perf_logs(data_frames, apriori_find_association_rules)\n",
    "draw_box_plot(apriori_cols, apriori_perf_logs)"
   ]
  },
  {
   "cell_type": "markdown",
   "metadata": {},
   "source": [
    "## Brute Force Approach"
   ]
  },
  {
   "cell_type": "code",
   "execution_count": 15,
   "metadata": {},
   "outputs": [],
   "source": [
    "def brute_force_association_mining(dataset, minsup, minconf):\n",
    "\tdataset = np.array(dataset)\n",
    "\tdf = pd.DataFrame(dataset)\n",
    "\titemset = set()\n",
    "\tfor col in df:\n",
    "\t\titemset.update(df[col].unique())\n",
    "\titems = sorted(list(itemset))\n",
    "\tic = len(items)\n",
    "\ttc = len(df.index)\n",
    "\ttrans=[]\n",
    "\tfor index, row in df.iterrows():\n",
    "\t\ttran= [0] * len(itemset)\n",
    "\t\trowset = set(row)\n",
    "\t\tcommons = list(itemset.intersection(rowset))\n",
    "\t\tfor com in commons:\n",
    "\t\t\tcom_index = items.index(com)\n",
    "\t\t\ttran[com_index] = 1\n",
    "\t\t\ttrans.append(tran)\n",
    "\n",
    "\ttrans1=[]\n",
    "\tfor x in range(tc):\n",
    "\t\ttran1=[]\n",
    "\t\tfor y in range(ic):\n",
    "\t\t\tif(trans[x][y]==1):\n",
    "\t\t\t\ttran1.append(y)\n",
    "\t\ttrans1.append(set(tran1))\n",
    "\n",
    "\tL=[]\n",
    "\tfor l in range(1,ic+1):\n",
    "\t\tfor subset in itertools.combinations(range(ic),l):\n",
    "\t\t\tL.append(set(subset))\n",
    "\n",
    "\tLC=[]\n",
    "\tfor l in L:\n",
    "\t\tlc=0\n",
    "\t\tfor t in trans1:\n",
    "\t\t\tif(l.issubset(t)):\n",
    "\t\t\t\tlc+=1\n",
    "\t\tLC.append(lc)\n",
    "\tC=[]\n",
    "\tCC=[]\n",
    "\tfor x in range(len(LC)):\n",
    "\t\tif(LC[x]>=minsup):\n",
    "\t\t\tC.append(list(L[x]))\n",
    "\t\t\tCC.append(LC[x])\n",
    "\tLHS = [] \n",
    "\tRHS = []\n",
    "\tconf = []\n",
    "\tfor item in range(len(C)):\n",
    "\t\tfor citem in range(len(C)):\n",
    "\t\t\tindex=0\n",
    "\t\t\tte=list(set(C[item]).union(set(C[citem])))\n",
    "\t\t\tif((te in C )and(te != C[item])and(te!=C[citem])and(not(set(C[item])&set(C[citem])))): \n",
    "\t\t\t\tfor x in range(len(C)):\n",
    "\t\t\t\t\tif(te==C[x]):\n",
    "\t\t\t\t\t\tindex=x\n",
    "\t\t\t\ttemp = float(CC[index])/float(CC[item])\n",
    "\t\t\t\tif(temp>=minconf):\n",
    "\t\t\t\t\tLHS.append(C[item])\n",
    "\t\t\t\t\tRHS.append(C[citem])\n",
    "\t\t\t\t\tconf.append(temp)\n",
    "\treturn (C, CC, LHS, RHS, conf)"
   ]
  },
  {
   "cell_type": "markdown",
   "metadata": {},
   "source": [
    "### Box Plots"
   ]
  },
  {
   "cell_type": "code",
   "execution_count": 16,
   "metadata": {},
   "outputs": [
    {
     "data": {
      "text/plain": [
       "<AxesSubplot:xlabel='Counts', ylabel='Time (in microseconds)'>"
      ]
     },
     "execution_count": 16,
     "metadata": {},
     "output_type": "execute_result"
    },
    {
     "data": {
      "image/png": "[encoded data removed]",
      "text/plain": [
       "<Figure size 432x288 with 1 Axes>"
      ]
     },
     "metadata": {},
     "output_type": "display_data"
    }
   ],
   "source": [
    "brute_cols, brute_perf_logs = get_counts_and_perf_logs(data_frames, brute_force_association_mining)\n",
    "draw_box_plot(brute_cols, brute_perf_logs)"
   ]
  },
  {
   "cell_type": "markdown",
   "metadata": {},
   "source": [
    "## Matlib Plots"
   ]
  },
  {
   "cell_type": "code",
   "execution_count": 17,
   "metadata": {},
   "outputs": [],
   "source": [
    "def draw_plots(col_sets, perf_log_sets, color_sets, label_sets):\n",
    "  plot_df_sets = []\n",
    "  y_max = 0\n",
    "  for cols, logs, color, label in zip(col_sets, perf_log_sets, color_sets, label_sets):\n",
    "    df = pd.DataFrame(logs,columns=cols)\n",
    "    data = np.array(logs)\n",
    "    y = data.mean(axis=0)\n",
    "    y_max = max(max(y), y_max)\n",
    "    x = cols\n",
    "    avgs = []\n",
    "    std_devs = []\n",
    "    std_err = []\n",
    "    for col in cols: \n",
    "      std_err.append(df[col].sem())\n",
    "      avgs.append(df[col].mean()) \n",
    "      std_devs.append(df[col].std())\n",
    "    error = np.array(std_err)\n",
    "    std_dev = np.array(std_devs)\n",
    "    plt.plot(x, y, 'k-', label=label)\n",
    "    plt.fill_between(x, y-std_dev/2, y+std_dev/2, color=color)\n",
    "    plt.fill_between(x, y-error/2, y+error/2, color='red')    \n",
    "    data = {'count': cols, 'avg. time': avgs, 'std. deviation': std_devs, 'std. error': std_err}\n",
    "    plot_df = pd.DataFrame(data)\n",
    "    plot_df_sets.append(plot_df)\n",
    "  plt.ylim((0, y_max + 500))\n",
    "  plt.xlabel(\"Count\")\n",
    "  plt.ylabel(\"Time (microseconds)\")\n",
    "  plt.legend()\n",
    "  plt.show()\n",
    "  return plot_df_sets"
   ]
  },
  {
   "cell_type": "markdown",
   "metadata": {},
   "source": [
    "# Plot of measured time"
   ]
  },
  {
   "cell_type": "markdown",
   "metadata": {},
   "source": [
    "## Scale down Brute Force results"
   ]
  },
  {
   "cell_type": "code",
   "execution_count": 18,
   "metadata": {},
   "outputs": [],
   "source": [
    "brute_perf_logs = np.array(brute_perf_logs)\n",
    "brute_perf_scaled_logs = brute_perf_logs/20"
   ]
  },
  {
   "cell_type": "code",
   "execution_count": 19,
   "metadata": {},
   "outputs": [
    {
     "data": {
      "image/png": "[encoded data removed]",
      "text/plain": [
       "<Figure size 432x288 with 1 Axes>"
      ]
     },
     "metadata": {},
     "output_type": "display_data"
    },
    {
     "data": {
      "text/plain": [
       "[   count     avg. time  std. deviation  std. error\n",
       " 0    288   2297.103125      185.102675   20.695108\n",
       " 1    576   4481.121250      147.056980   16.441470\n",
       " 2    864   6688.338125      205.062177   22.926648\n",
       " 3   1152   8918.045000      420.738778   47.040025\n",
       " 4   1440  11118.972500      386.670602   43.231088,\n",
       "    count  avg. time  std. deviation  std. error\n",
       " 0    288   635.8875      482.618727   53.958414\n",
       " 1    576  1110.5250      316.972305   35.438581\n",
       " 2    864  1397.1875      491.663209   54.969618\n",
       " 3   1152  1732.0875      493.387726   55.162425\n",
       " 4   1440  2068.7000      264.900478   29.616774]"
      ]
     },
     "execution_count": 19,
     "metadata": {},
     "output_type": "execute_result"
    }
   ],
   "source": [
    "draw_plots([brute_cols, apriori_cols], [brute_perf_scaled_logs, apriori_perf_logs], ['blue', 'yellow'], ['Brute Force', 'Apriori'] )"
   ]
  },
  {
   "cell_type": "code",
   "execution_count": null,
   "metadata": {},
   "outputs": [],
   "source": []
  }
 ],
 "metadata": {
  "kernelspec": {
   "display_name": "Python 3",
   "language": "python",
   "name": "python3"
  },
  "language_info": {
   "codemirror_mode": {
    "name": "ipython",
    "version": 3
   },
   "file_extension": ".py",
   "mimetype": "text/x-python",
   "name": "python",
   "nbconvert_exporter": "python",
   "pygments_lexer": "ipython3",
   "version": "3.6.13"
  }
 },
 "nbformat": 4,
 "nbformat_minor": 2
}
